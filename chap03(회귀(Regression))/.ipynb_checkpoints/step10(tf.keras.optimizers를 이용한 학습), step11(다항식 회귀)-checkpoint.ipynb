{
 "cells": [
  {
   "cell_type": "markdown",
   "id": "278977f9",
   "metadata": {},
   "source": [
    "# Step10 tf.keras.optimizers를 이용한 학습\n",
    "tf.keras.optimizers에는 **경사하강법**을 기반한 최적화 알고리즘이 구현되어 있다. 옵티마이저는 손실함수를 통해 얻은 손실값으로 모델을 업데이트하는 방식이다.\n",
    "\n",
    "EX) SGD(), Adagrad(), Adam(), RMSprop()등이며 SGD 이외의 최적화 알고리즘은 SGD에서 파생됨(변경됨)\n",
    "\n",
    "default learning_rate = 0.001이고, 빠르게 최적화 순실이 0 근처로 감소해도 해당 최적화 알고리즘이 좋다고 이야기할 수 없다.\n",
    "\n"
   ]
  },
  {
   "cell_type": "markdown",
   "id": "55a989f0",
   "metadata": {},
   "source": [
    "## step10_01\n",
    "### 함수 최적화1"
   ]
  },
  {
   "cell_type": "code",
   "execution_count": 18,
   "id": "f33f18d1",
   "metadata": {},
   "outputs": [
    {
     "name": "stdout",
     "output_type": "stream",
     "text": [
      "epoch=0: loss=13.0\n",
      "epoch=10: loss=8.650318145751953\n",
      "epoch=20: loss=6.899718761444092\n",
      "epoch=30: loss=5.741325378417969\n",
      "epoch=40: loss=4.883838653564453\n",
      "epoch=50: loss=4.213286399841309\n",
      "epoch=60: loss=3.6712424755096436\n",
      "epoch=70: loss=3.223158836364746\n",
      "epoch=80: loss=2.8466854095458984\n",
      "epoch=90: loss=2.5264413356781006\n",
      "x=0.55190, y=1.39526, loss=2.277082920074463\n"
     ]
    },
    {
     "data": {
      "image/png": "[encoded data removed]",
      "text/plain": [
       "<Figure size 432x288 with 1 Axes>"
      ]
     },
     "metadata": {
      "needs_background": "light"
     },
     "output_type": "display_data"
    }
   ],
   "source": [
    "import tensorflow as tf\n",
    "import matplotlib.pyplot as plt\n",
    "\n",
    "x = tf.Variable(2.0)\n",
    "y = tf.Variable(3.0)\n",
    "\n",
    "#opt = tf.keras.optimizers.SGD(learning_rate = 0.1)\n",
    "#SGD로 loss=x^2+y^2의 최소해를 계산한다. 참값은 x=0, y=0에서 loss=0이다.\n",
    "\n",
    "opt = tf.keras.optimizers.Adagrad(0.1)\n",
    "#opt = tf.keras.optimizers.Adam(0.1)\n",
    "#opt = tf.keras.optimizers.RMSprope(0.1)\n",
    "\n",
    "loss_list = []\n",
    "for epoch in range(100):\n",
    "    with tf.GradientTape() as tape:\n",
    "        loss = x ** 2 + y **2\n",
    "    loss_list.append(loss.numpy()) #**이전 for문 저장**#\n",
    "    \n",
    "#     grads = tape.gradient(loss, [x,y])\n",
    "#     grads_list = [g for g in grads]\n",
    "#     grads_and_vars = zip(grads_list, [x,y])\n",
    "    \n",
    "    dx, dy = tape.gradient(loss, [x,y]) # gradient 계산, loss는 텐서 변수이다.\n",
    "    grads_and_vars = zip([dx, dy], [x,y]) #[dx, dy]와 [x,y]를 순서대로 쌍으로 묶어서 grads_and_vars를 만든다.\n",
    "    opt.apply_gradients(grads_and_vars) #grads_and_vars를 최적화 객체 opt에 적용해서 최적화를 수행한다.\n",
    "\n",
    "    if not epoch % 10: #epoch가 10의 배수만큼 일때 마다 출력\n",
    "        print(\"epoch={}: loss={}\".format(epoch, loss.numpy()))\n",
    "\n",
    "print(\"x={:.5f}, y={:.5f}, loss={}\".format(x.numpy(), y.numpy(), loss.numpy()))\n",
    "plt.plot(loss_list)\n",
    "plt.show()       "
   ]
  },
  {
   "cell_type": "markdown",
   "id": "2605cd6d",
   "metadata": {},
   "source": [
    "-> Adagrad()는 충분히 학습되지 않았기에 에폭을 더 증가시켜야한다."
   ]
  },
  {
   "cell_type": "markdown",
   "id": "bf0d70cb",
   "metadata": {},
   "source": [
    "## step10_02\n",
    "### 함수 최적화2\n",
    "\n",
    "minimize 함수 호출 시 인자에 손실값을 부여하면 모델학습 시 손실값을 최소화하는 방향으로 optimizer가 적용된다."
   ]
  },
  {
   "cell_type": "code",
   "execution_count": 23,
   "id": "8dfd2f72",
   "metadata": {},
   "outputs": [
    {
     "name": "stdout",
     "output_type": "stream",
     "text": [
      "epoch=0: loss=8.320000648498535\n",
      "epoch=10: loss=0.09592308104038239\n",
      "epoch=20: loss=0.001105917850509286\n",
      "epoch=30: loss=1.275036447623279e-05\n",
      "epoch=40: loss=1.4700168549097725e-07\n",
      "epoch=50: loss=1.6948142889106066e-09\n",
      "epoch=60: loss=1.9539881865315856e-11\n",
      "epoch=70: loss=2.25279511842022e-13\n",
      "epoch=80: loss=2.5972956661649612e-15\n",
      "epoch=90: loss=2.9944778589921956e-17\n",
      "x=0.00000, y=0.00000, loss=5.394372027788135e-19\n"
     ]
    },
    {
     "data": {
      "image/png": "[encoded data removed]",
      "text/plain": [
       "<Figure size 432x288 with 1 Axes>"
      ]
     },
     "metadata": {
      "needs_background": "light"
     },
     "output_type": "display_data"
    }
   ],
   "source": [
    "import tensorflow as tf\n",
    "import matplotlib.pyplot as plt\n",
    "\n",
    "x = tf.Variable(2.0)\n",
    "y = tf.Variable(3.0)\n",
    "\n",
    "opt = tf.keras.optimizers.SGD(learning_rate = 0.1)\n",
    "#opt = tf.keras.optimizers.Adagrad(0.1)\n",
    "#opt = tf.keras.optimizers.Adam(0.1)\n",
    "#opt = tf.keras.optimizers.RMSprope(0.1)\n",
    "\n",
    "loss_list = []\n",
    "for epoch in range(100):\n",
    "    loss = lambda:x**2+y**2\n",
    "    loss_list.append(loss().numpy())\n",
    "    \n",
    "    opt.minimize(loss, var_list=[x,y])\n",
    "    if not epoch % 10: #epoch가 10의 배수만큼 일때 마다 출력\n",
    "        print(\"epoch={}: loss={}\".format(epoch, loss().numpy()))\n",
    "\n",
    "print(\"x={:.5f}, y={:.5f}, loss={}\".format(x.numpy(), y.numpy(), loss().numpy()))\n",
    "plt.plot(loss_list)\n",
    "plt.show()"
   ]
  },
  {
   "cell_type": "markdown",
   "id": "8d69d908",
   "metadata": {},
   "source": [
    "## step10_03\n",
    "### 2변수 선형 회귀: MSE 손실함수에 의한 경사하강법"
   ]
  },
  {
   "cell_type": "code",
   "execution_count": 30,
   "id": "f93b6c41",
   "metadata": {},
   "outputs": [
    {
     "name": "stdout",
     "output_type": "stream",
     "text": [
      "epoch=0: loss=48.75043\n",
      "epoch=10: loss=1.55532\n",
      "epoch=20: loss=0.43035\n",
      "epoch=30: loss=0.37791\n",
      "epoch=40: loss=0.35253\n",
      "epoch=50: loss=0.32972\n",
      "epoch=60: loss=0.30873\n",
      "epoch=70: loss=0.28937\n",
      "epoch=80: loss=0.27150\n",
      "epoch=90: loss=0.25497\n",
      "W=[[1.4033018]\n",
      " [2.17113  ]], b=[1.7315341], loss=0.24113810062408447\n"
     ]
    },
    {
     "data": {
      "image/png": "[encoded data removed]",
      "text/plain": [
       "<Figure size 432x288 with 1 Axes>"
      ]
     },
     "metadata": {
      "needs_background": "light"
     },
     "output_type": "display_data"
    }
   ],
   "source": [
    "import numpy as np\n",
    "import tensorflow as tf\n",
    "import matplotlib.pyplot as plt\n",
    "\n",
    "MSE = tf.keras.losses.MeanSquaredError()\n",
    "def mse_loss():\n",
    "    y = tf.matmul(X, W) + b\n",
    "    return MSE(y, t)\n",
    "\n",
    "train_data = np.array([ # t = 1*x1 + 2*x2 + 3\n",
    " # x1, x2, t      \n",
    " [ 1,  0,  4],\n",
    " [ 2,  0,  5],\n",
    " [ 3,  0,  6],\n",
    " [ 4,  0,  7],\n",
    " [ 1,  1,  6],\n",
    " [ 2,  1,  7],\n",
    " [ 3,  1,  8],\n",
    " [ 4,  1,  9]], dtype=np.float32)\n",
    "\n",
    "X = train_data[:, :-1]\n",
    "t = train_data[:, -1:]\n",
    "\n",
    "tf.random.set_seed(1)\n",
    "W = tf.Variable(tf.random.normal(shape=[2,1]),)\n",
    "b = tf.Variable(tf.random.normal(shape=[1]))\n",
    "\n",
    "opt = tf.keras.optimizers.SGD(learning_rate = 0.01)\n",
    "# opt = tf.keras.optimizers.Adagrad(0.01)\n",
    "# opt = tf.keras.optimizers.Adam(0.01)\n",
    "# opt = tf.keras.optimizers.RMSpropo(0.01)\n",
    "\n",
    "loss_list = []\n",
    "for epoch in range(100):\n",
    "    opt.minimize(mse_loss, var_list=[W,b])\n",
    "    #mse_loss에서 변수 리스트[W, b]에 대해 최적화한다.\n",
    "    #mse_loss는 매개변수를 가지지 않아야 한다.\n",
    "    \n",
    "    loss = mse_loss().numpy() \n",
    "    loss_list.append(loss)\n",
    "    if not epoch % 10: #epoch가 10의 배수만큼 일때 마다 출력\n",
    "            print(\"epoch={}: loss={:.5f}\".format(epoch, loss))\n",
    "\n",
    "print(\"W={}, b={}, loss={}\".format(W.numpy(), b.numpy(), loss))\n",
    "plt.plot(loss_list)\n",
    "plt.show()"
   ]
  },
  {
   "cell_type": "markdown",
   "id": "010e1eb8",
   "metadata": {},
   "source": [
    "## step10_04\n",
    "### 2변수 선형 회귀의 미니배치 학습"
   ]
  },
  {
   "cell_type": "code",
   "execution_count": 40,
   "id": "6a4271d2",
   "metadata": {},
   "outputs": [
    {
     "name": "stdout",
     "output_type": "stream",
     "text": [
      "epoch=0: batch_loss=37.72820\n",
      "epoch=10: batch_loss=0.25458\n",
      "epoch=20: batch_loss=0.28359\n",
      "epoch=30: batch_loss=0.21216\n",
      "epoch=40: batch_loss=0.13820\n",
      "epoch=50: batch_loss=0.17363\n",
      "epoch=60: batch_loss=0.24619\n",
      "epoch=70: batch_loss=0.11388\n",
      "epoch=80: batch_loss=0.14636\n",
      "epoch=90: batch_loss=0.12090\n",
      "W=[[1.2847785]\n",
      " [2.2557502]], b=[2.0514324], batch_loss=0.15821927599608898\n"
     ]
    },
    {
     "data": {
      "image/png": "[encoded data removed]",
      "text/plain": [
       "<Figure size 432x288 with 1 Axes>"
      ]
     },
     "metadata": {
      "needs_background": "light"
     },
     "output_type": "display_data"
    }
   ],
   "source": [
    "import numpy as np\n",
    "import tensorflow as tf\n",
    "import matplotlib.pyplot as plt\n",
    "\n",
    "MSE = tf.keras.losses.MeanSquaredError()\n",
    "def mse_loss():\n",
    "    y = tf.matmul(x_batch, W) + b\n",
    "    return MSE(y, t_batch)\n",
    "\n",
    "train_data = np.array([ # t = 1*x1 + 2*x2 + 3\n",
    " # x1, x2, t      \n",
    " [ 1,  0,  4],\n",
    " [ 2,  0,  5],\n",
    " [ 3,  0,  6],\n",
    " [ 4,  0,  7],\n",
    " [ 1,  1,  6],\n",
    " [ 2,  1,  7],\n",
    " [ 3,  1,  8],\n",
    " [ 4,  1,  9]], dtype=np.float32)\n",
    "\n",
    "X = train_data[:, :-1]\n",
    "t = train_data[:, -1:]\n",
    "\n",
    "tf.random.set_seed(1)\n",
    "W = tf.Variable(tf.random.normal(shape=[2,1]),)\n",
    "b = tf.Variable(tf.random.normal(shape=[1]))\n",
    "\n",
    "opt = tf.keras.optimizers.SGD(learning_rate = 0.01)\n",
    "# opt = tf.keras.optimizers.Adagrad(0.01)\n",
    "# opt = tf.keras.optimizers.Adam(0.01)\n",
    "# opt = tf.keras.optimizers.RMSpropo(0.01)\n",
    "\n",
    "train_size = X.shape[0]\n",
    "batch_size = 4\n",
    "K = train_size//batch_size\n",
    "\n",
    "loss_list = []\n",
    "for epoch in range(100):\n",
    "    batch_loss = 0.0\n",
    "    for step in range(K):\n",
    "        mask = np.random.choice(train_size, batch_size)\n",
    "        x_batch = X[mask]\n",
    "        t_batch = t[mask]\n",
    "        opt.minimize(mse_loss, var_list=[W,b])\n",
    "        #mse_loss에서 변수 리스트[W, b]에 대해 최적화한다.\n",
    "        #mse_loss는 매개변수를 가지지 않아야 한다.\n",
    "    \n",
    "        loss = mse_loss().numpy() \n",
    "        batch_loss += loss\n",
    "    \n",
    "    batch_loss /= K\n",
    "    loss_list.append(batch_loss)\n",
    "    \n",
    "    if not epoch % 10: #epoch가 10의 배수만큼 일때 마다 출력\n",
    "            print(\"epoch={}: batch_loss={:.5f}\".format(epoch, batch_loss))\n",
    "\n",
    "print(\"W={}, b={}, batch_loss={}\".format(W.numpy(), b.numpy(), batch_loss))\n",
    "plt.plot(loss_list)\n",
    "plt.show()"
   ]
  },
  {
   "cell_type": "markdown",
   "id": "57caeba0",
   "metadata": {},
   "source": [
    "# Step11 다항식 회귀\n",
    "수식 11.1은 일반적인 다항식 함수이다. 여기서 x는 단순한 스칼라 실수로 가정하고, 몇 차 다항식들을 optimizer(n=1은 직선, 2는 포물선, 3은 다항식)를 이용하여 구현한다.\n",
    "\n",
    "훈련 데이터에 정규분포 잡음을 추가하여 구현한다.\n",
    "\n",
    "여기서는 mse_loss() 함수에서 다항식의 참값과 출력(y = b + w1*x + w2*x^2 + ... + w(n)x^n) 사이의 손실함수로 구현한다.\n",
    "\n",
    "y = b + w1x + w2x^2 + ... +w(n) x^n  - 수식 11.1\n",
    "\n",
    "y = WX\n",
    "\n",
    "여기서, W = [b, w1, w2, ... w(n)]\n",
    "\n",
    "X = [1, x, x^2, ... x^n]\n",
    "\n",
    "\n",
    "\n",
    "## step11_01\n",
    "### n=1의 다항식(직선)회귀"
   ]
  },
  {
   "cell_type": "code",
   "execution_count": 41,
   "id": "6b15f055",
   "metadata": {},
   "outputs": [
    {
     "name": "stdout",
     "output_type": "stream",
     "text": [
      "epoch=0: loss=37.226837158203125\n",
      "epoch=100: loss=12.824580192565918\n",
      "epoch=200: loss=5.855210304260254\n",
      "epoch=300: loss=3.433419704437256\n",
      "epoch=400: loss=2.5918679237365723\n",
      "epoch=500: loss=2.299438953399658\n",
      "epoch=600: loss=2.197822093963623\n",
      "epoch=700: loss=2.162511110305786\n",
      "epoch=800: loss=2.150240898132324\n",
      "epoch=900: loss=2.14597749710083\n",
      "w=3.1359. b=-10.9725, loss=2.1445038318634033\n"
     ]
    },
    {
     "data": {
      "image/png": "[encoded data removed]",
      "text/plain": [
       "<Figure size 432x288 with 1 Axes>"
      ]
     },
     "metadata": {
      "needs_background": "light"
     },
     "output_type": "display_data"
    },
    {
     "data": {
      "image/png": "[encoded data removed]",
      "text/plain": [
       "<Figure size 432x288 with 1 Axes>"
      ]
     },
     "metadata": {
      "needs_background": "light"
     },
     "output_type": "display_data"
    }
   ],
   "source": [
    "import tensorflow as tf\n",
    "import numpy as np\n",
    "import matplotlib.pyplot as plt\n",
    "\n",
    "MSE = tf.keras.losses.MeanSquaredError()\n",
    "def mse_loss():\n",
    "     y = x*w + b\n",
    "     return MSE(y, t)\n",
    "\n",
    "EPOCH = 1000\n",
    "train_size = 20\n",
    "\n",
    "# train 데이터 만드는 과정\n",
    "tf.random.set_seed(1)\n",
    "x = tf.linspace(0.0, 10.0, num=train_size)\n",
    "w_true, b_true = 3, -10  # 참값이다.\n",
    "# t = w_true * x + b_true에 정규분포 잡음을 추가한다.\n",
    "t = x*w_true + b_true + tf.random.normal([train_size], mean=0.0, stddev=2.0)\n",
    "\n",
    "\n",
    "w = tf.Variable(tf.random.normal([]))\n",
    "b = tf.Variable(tf.random.normal([]))\n",
    "\n",
    "opt = tf.keras.optimizers.SGD(learning_rate=0.01)\n",
    "\n",
    "loss_list = [ ]\n",
    "for epoch in range(EPOCH):\n",
    "    #손실함수 mse_loss에서 변수 리스트[w,b]에 대해 최적화한다.\n",
    "    opt.minimize(mse_loss, var_list= [w, b])\n",
    "     \n",
    "    loss = mse_loss().numpy()\n",
    "    loss_list.append(loss)\n",
    "    if not epoch%100:\n",
    "        print(\"epoch={}: loss={}\".format(epoch, loss))\n",
    "\n",
    "print(\"w={:>.4f}. b={:>.4f}, loss={}\".format(w.numpy(), b.numpy(), loss))\n",
    "\n",
    "plt.plot(loss_list)\n",
    "plt.show()\n",
    "\n",
    "plt.scatter(x, t.numpy())  # train data plot\n",
    "\n",
    "w_pred, b_pred = w.numpy(), b.numpy() # predicted, line parameters\n",
    "t_pred= x*w_pred + b_pred \n",
    "plt.plot(x, t_pred, 'r-')\n",
    "plt.show()\n"
   ]
  },
  {
   "cell_type": "markdown",
   "id": "61b2c4e4",
   "metadata": {},
   "source": [
    "-> 학습결과는 w=3.1359. b=-10.9725로 참값에 근사한다.\n",
    "\n",
    "손실은 반복함에 따라 0 근처로 감소한다..\n",
    "\n",
    "그래프는 훈련데이터와 n=1의 다항식 회귀 결과 w_pred, b_pred를 이용해서 x에서의 예측값 x_pred = x* w_bred + b_pred의 직선 그래프이다."
   ]
  },
  {
   "cell_type": "markdown",
   "id": "705b5425",
   "metadata": {},
   "source": [
    "## step11_02\n",
    "### n=2의 다항식(포물선)회귀\n",
    "\n",
    "t = ax^2 + bx + c의 회귀를 구현한다.<br><br>\n",
    "\n",
    "훈련 데이터는 다항식의 참값이 a_true = 3, b_true=2, c_true=1인\n",
    "\n",
    "t = a_true * x^2 + b_true * x + c_true의 포물선에 tf.random.normal로 정규분포 잡음을 추가하여 생성한다."
   ]
  },
  {
   "cell_type": "code",
   "execution_count": 44,
   "id": "d50f64ca",
   "metadata": {},
   "outputs": [
    {
     "name": "stdout",
     "output_type": "stream",
     "text": [
      "epoch=0: loss=544.3563232421875\n",
      "epoch=100: loss=4.419684410095215\n",
      "epoch=200: loss=2.8330249786376953\n",
      "epoch=300: loss=2.6601357460021973\n",
      "epoch=400: loss=2.5432896614074707\n",
      "epoch=500: loss=2.446033000946045\n",
      "epoch=600: loss=2.3645241260528564\n",
      "epoch=700: loss=2.2961983680725098\n",
      "epoch=800: loss=2.2389321327209473\n",
      "epoch=900: loss=2.1909255981445312\n",
      "a=3.0130. b=2.1439, c=0.8757, loss=2.1510555744171143\n"
     ]
    },
    {
     "data": {
      "image/png": "[encoded data removed]",
      "text/plain": [
       "<Figure size 432x288 with 1 Axes>"
      ]
     },
     "metadata": {
      "needs_background": "light"
     },
     "output_type": "display_data"
    },
    {
     "data": {
      "image/png": "[encoded data removed]",
      "text/plain": [
       "<Figure size 432x288 with 1 Axes>"
      ]
     },
     "metadata": {
      "needs_background": "light"
     },
     "output_type": "display_data"
    }
   ],
   "source": [
    "import tensorflow as tf\n",
    "import numpy as np\n",
    "import matplotlib.pyplot as plt\n",
    "\n",
    "MSE = tf.keras.losses.MeanSquaredError()\n",
    "def mse_loss():\n",
    "     y = a*x**2 + b*x+c\n",
    "##     y = a*tf.pow(x, 2) + b**x + c\n",
    "     return MSE(y, t)\n",
    "\n",
    "EPOCH = 1000\n",
    "train_size = 20\n",
    "\n",
    "tf.random.set_seed(1)\n",
    "x = tf.linspace(-5.0, 5.0, num=train_size)\n",
    "\n",
    "a_true = tf.Variable(3.0)\n",
    "b_true = tf.Variable(2.0)\n",
    "c_true = tf.Variable(1.0)\n",
    "t = a_true*tf.pow(x, 2) + b_true*x+c_true\n",
    "t += tf.random.normal([train_size], mean=0.0, stddev = 2) #stddev:표준편차\n",
    "\n",
    "a = tf.Variable(tf.random.normal([]))\n",
    "b = tf.Variable(tf.random.normal([]))\n",
    "c = tf.Variable(tf.random.normal([]))\n",
    "                \n",
    "opt = tf.keras.optimizers.SGD(learning_rate=0.001)\n",
    "#opt = tf.keras.optimizers.Adam(learning_rate=0.01)\n",
    "##opt = tf.keras.optimizers.RMSprop(0.01)\n",
    "\n",
    "loss_list = [ ]\n",
    "for epoch in range(EPOCH):   \n",
    "    opt.minimize(mse_loss, var_list= [a, b, c])\n",
    "     \n",
    "    loss = mse_loss().numpy()\n",
    "    loss_list.append(loss)\n",
    "\n",
    "    if not epoch%100:\n",
    "        print(\"epoch={}: loss={}\".format(epoch, loss))      \n",
    "\n",
    "print(\"a={:>.4f}. b={:>.4f}, c={:>.4f}, loss={}\".format(\n",
    "       a.numpy(), b.numpy(), c.numpy(),loss))\n",
    "\n",
    "plt.plot(loss_list)\n",
    "plt.show()\n",
    "\n",
    "plt.scatter(x, t.numpy())\n",
    "\n",
    "t_pred = a*tf.pow(x, 2) + b*x + c\n",
    "plt.plot(x, t_pred, 'red')\n",
    "plt.show()"
   ]
  },
  {
   "cell_type": "markdown",
   "id": "9c1c0fcb",
   "metadata": {},
   "source": [
    "## step11_03\n",
    "### n차 다항식 회귀\n",
    "\n",
    "\n",
    "훈련 데이터는 다항식의 참값이 w_true = [1.0, 2.0, 3.0], b_true = 4.0인 [수식 11.2]의 3차 다항식에 정규분포 잡음을 추가하여 생성한다\n",
    "\n",
    "[수식 11.2]\n",
    "t = w_true[2] * x^3 + w_true[1] * x^2 + w_true[0] * x + b_true\n",
    "\n",
    "= 3x^3 + 2x^2 + x + 4\n",
    "<br><br>\n",
    "\n",
    "t = a_true * x^2 + b_true * x + c_true의 포물선에 tf.random.normal로 정규분포 잡음을 추가하여 생성한다."
   ]
  },
  {
   "cell_type": "code",
   "execution_count": 46,
   "id": "9cf594a3",
   "metadata": {},
   "outputs": [
    {
     "name": "stdout",
     "output_type": "stream",
     "text": [
      "epoch=0: loss=31044.46875\n",
      "epoch=100: loss=29209.412109375\n",
      "epoch=200: loss=27789.20703125\n",
      "epoch=300: loss=26649.41796875\n",
      "epoch=400: loss=25675.697265625\n",
      "epoch=500: loss=24791.197265625\n",
      "epoch=600: loss=23954.87109375\n",
      "epoch=700: loss=23149.392578125\n",
      "epoch=800: loss=22368.791015625\n",
      "epoch=900: loss=21611.15625\n",
      "epoch=1000: loss=20875.716796875\n",
      "epoch=1100: loss=20161.94921875\n",
      "epoch=1200: loss=19469.37890625\n",
      "epoch=1300: loss=18797.5546875\n",
      "epoch=1400: loss=18146.03125\n",
      "epoch=1500: loss=17514.38671875\n",
      "epoch=1600: loss=16902.20703125\n",
      "epoch=1700: loss=16309.087890625\n",
      "epoch=1800: loss=15734.6376953125\n",
      "epoch=1900: loss=15178.4716796875\n",
      "epoch=2000: loss=14640.2265625\n",
      "epoch=2100: loss=14119.541015625\n",
      "epoch=2200: loss=13616.0654296875\n",
      "epoch=2300: loss=13129.462890625\n",
      "epoch=2400: loss=12659.404296875\n",
      "epoch=2500: loss=12205.568359375\n",
      "epoch=2600: loss=11767.6474609375\n",
      "epoch=2700: loss=11345.333984375\n",
      "epoch=2800: loss=10938.333984375\n",
      "epoch=2900: loss=10546.361328125\n",
      "epoch=3000: loss=10169.1298828125\n",
      "epoch=3100: loss=9806.365234375\n",
      "epoch=3200: loss=9457.798828125\n",
      "epoch=3300: loss=9123.1640625\n",
      "epoch=3400: loss=8802.2041015625\n",
      "epoch=3500: loss=8494.6533203125\n",
      "epoch=3600: loss=8200.2626953125\n",
      "epoch=3700: loss=7918.7763671875\n",
      "epoch=3800: loss=7649.94384765625\n",
      "epoch=3900: loss=7393.5146484375\n",
      "epoch=4000: loss=7149.23681640625\n",
      "epoch=4100: loss=6916.8564453125\n",
      "epoch=4200: loss=6696.12353515625\n",
      "epoch=4300: loss=6486.779296875\n",
      "epoch=4400: loss=6288.568359375\n",
      "epoch=4500: loss=6101.22998046875\n",
      "epoch=4600: loss=5924.49462890625\n",
      "epoch=4700: loss=5758.0947265625\n",
      "epoch=4800: loss=5601.7548828125\n",
      "epoch=4900: loss=5455.1982421875\n",
      "W=[40.83918    2.8201392]. b=-8.163032531738281, loss=5319.46044921875\n"
     ]
    },
    {
     "data": {
      "image/png": "[encoded data removed]",
      "text/plain": [
       "<Figure size 432x288 with 1 Axes>"
      ]
     },
     "metadata": {
      "needs_background": "light"
     },
     "output_type": "display_data"
    },
    {
     "data": {
      "image/png": "[encoded data removed]",
      "text/plain": [
       "<Figure size 432x288 with 1 Axes>"
      ]
     },
     "metadata": {
      "needs_background": "light"
     },
     "output_type": "display_data"
    }
   ],
   "source": [
    "import tensorflow as tf\n",
    "import numpy as np\n",
    "import matplotlib.pyplot as plt\n",
    "\n",
    "MSE = tf.keras.losses.MeanSquaredError()\n",
    "def mse_loss():\n",
    "     y = tf.zeros_like(x)\n",
    "     for i in range(W.shape[0]):\n",
    "          y += W[i]*(x**(i+1))\n",
    "     y += b\n",
    "     return MSE(y, t)\n",
    "\n",
    "EPOCH = 5000\n",
    "train_size = 20\n",
    "\n",
    "#train data\n",
    "tf.random.set_seed(1)\n",
    "x = tf.linspace(-5.0, 5.0, num=train_size)\n",
    "\n",
    "w_true = tf.Variable([1.0, 2.0, 3.0])\n",
    "b_true = tf.Variable(4.0)    \n",
    "t = w_true[2]*x**3 + w_true[1]*x**2 + w_true[0]*x + b_true      \n",
    "t += tf.random.normal([train_size], mean=0.0, stddev = 30)\n",
    "\n",
    "\n",
    "n = 2 # n번째 다항식 곡선(1~4까지 변경해서 비교해보기)\n",
    "W = tf.Variable(tf.random.normal([n]))\n",
    "b = tf.Variable(tf.random.normal([])) \n",
    "\n",
    "opt = tf.keras.optimizers.Adam(learning_rate=0.01)\n",
    "\n",
    "loss_list = [ ]\n",
    "for epoch in range(EPOCH): \n",
    "    opt.minimize(mse_loss, var_list= [W, b])\n",
    "     \n",
    "    loss = mse_loss().numpy()\n",
    "    loss_list.append(loss)\n",
    "\n",
    "    if not epoch%100:\n",
    "        print(\"epoch={}: loss={}\".format(epoch, loss))\n",
    "        \n",
    "print(\"W={}. b={}, loss={}\".format(W.numpy(), b.numpy(),loss))\n",
    "plt.plot(loss_list)\n",
    "plt.show()\n",
    "\n",
    "plt.scatter(x, t.numpy())\n",
    "\n",
    "# polynomial curve\n",
    "t_pred = tf.zeros_like(x)\n",
    "for i in range(W.shape[0]):\n",
    "     t_pred += W[i]*(x**(i+1))\n",
    "t_pred += b # bias\n",
    "     \n",
    "plt.plot(x, t_pred, 'red')\n",
    "plt.show()"
   ]
  }
 ],
 "metadata": {
  "kernelspec": {
   "display_name": "Python 3",
   "language": "python",
   "name": "python3"
  },
  "language_info": {
   "codemirror_mode": {
    "name": "ipython",
    "version": 3
   },
   "file_extension": ".py",
   "mimetype": "text/x-python",
   "name": "python",
   "nbconvert_exporter": "python",
   "pygments_lexer": "ipython3",
   "version": "3.8.8"
  }
 },
 "nbformat": 4,
 "nbformat_minor": 5
}
