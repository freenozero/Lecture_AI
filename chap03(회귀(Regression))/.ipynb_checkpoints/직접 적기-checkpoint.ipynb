{
 "cells": [
  {
   "cell_type": "code",
   "execution_count": 30,
   "id": "0462592c",
   "metadata": {},
   "outputs": [
    {
     "ename": "AttributeError",
     "evalue": "'list' object has no attribute 'numpy'",
     "output_type": "error",
     "traceback": [
      "\u001b[1;31m---------------------------------------------------------------------------\u001b[0m",
      "\u001b[1;31mAttributeError\u001b[0m                            Traceback (most recent call last)",
      "\u001b[1;32m<ipython-input-30-38128c5dd520>\u001b[0m in \u001b[0;36m<module>\u001b[1;34m\u001b[0m\n\u001b[0;32m     24\u001b[0m     \u001b[0mdx\u001b[0m\u001b[1;33m,\u001b[0m \u001b[0mdy\u001b[0m \u001b[1;33m=\u001b[0m \u001b[0mtape\u001b[0m\u001b[1;33m.\u001b[0m\u001b[0mgradient\u001b[0m\u001b[1;33m(\u001b[0m\u001b[0mloss\u001b[0m\u001b[1;33m,\u001b[0m \u001b[1;33m[\u001b[0m\u001b[0mx\u001b[0m\u001b[1;33m,\u001b[0m\u001b[0my\u001b[0m\u001b[1;33m]\u001b[0m\u001b[1;33m)\u001b[0m \u001b[1;31m# gradient 계산, loss는 텐서 변수이다.\u001b[0m\u001b[1;33m\u001b[0m\u001b[1;33m\u001b[0m\u001b[0m\n\u001b[0;32m     25\u001b[0m \u001b[1;33m\u001b[0m\u001b[0m\n\u001b[1;32m---> 26\u001b[1;33m     \u001b[0mprint\u001b[0m\u001b[1;33m(\u001b[0m\u001b[0mlist\u001b[0m\u001b[1;33m(\u001b[0m\u001b[0mgrads_and_vars\u001b[0m\u001b[1;33m)\u001b[0m\u001b[1;33m.\u001b[0m\u001b[0mnumpy\u001b[0m\u001b[1;33m(\u001b[0m\u001b[1;33m)\u001b[0m\u001b[1;33m)\u001b[0m\u001b[1;33m\u001b[0m\u001b[1;33m\u001b[0m\u001b[0m\n\u001b[0m\u001b[0;32m     27\u001b[0m     \u001b[0mgrads_and_vars\u001b[0m \u001b[1;33m=\u001b[0m \u001b[0mzip\u001b[0m\u001b[1;33m(\u001b[0m\u001b[1;33m[\u001b[0m\u001b[0mdx\u001b[0m\u001b[1;33m,\u001b[0m \u001b[0mdy\u001b[0m\u001b[1;33m]\u001b[0m\u001b[1;33m,\u001b[0m \u001b[1;33m[\u001b[0m\u001b[0mx\u001b[0m\u001b[1;33m,\u001b[0m\u001b[0my\u001b[0m\u001b[1;33m]\u001b[0m\u001b[1;33m)\u001b[0m \u001b[1;31m#[dx, dy]와 [x,y]를 순서대로 쌍으로 묶어서 grads_and_vars를 만든다.\u001b[0m\u001b[1;33m\u001b[0m\u001b[1;33m\u001b[0m\u001b[0m\n\u001b[0;32m     28\u001b[0m     \u001b[0mopt\u001b[0m\u001b[1;33m.\u001b[0m\u001b[0mapply_gradients\u001b[0m\u001b[1;33m(\u001b[0m\u001b[0mgrads_and_vars\u001b[0m\u001b[1;33m)\u001b[0m \u001b[1;31m#grads_and_vars를 최적화 객체 opt에 적용해서 최적화를 수행한다.\u001b[0m\u001b[1;33m\u001b[0m\u001b[1;33m\u001b[0m\u001b[0m\n",
      "\u001b[1;31mAttributeError\u001b[0m: 'list' object has no attribute 'numpy'"
     ]
    }
   ],
   "source": [
    "import tensorflow as tf\n",
    "import matplotlib.pyplot as plt\n",
    "\n",
    "x = tf.Variable(2.0)\n",
    "y = tf.Variable(3.0)\n",
    "\n",
    "#opt = tf.keras.optimizers.SGD(learning_rate = 0.1)\n",
    "#SGD로 loss=x^2+y^2의 최소해를 계산한다. 참값은 x=0, y=0에서 loss=0이다.\n",
    "\n",
    "opt = tf.keras.optimizers.Adagrad(0.1)\n",
    "#opt = tf.keras.optimizers.Adam(0.1)\n",
    "#opt = tf.keras.optimizers.RMSprope(0.1)\n",
    "\n",
    "loss_list = []\n",
    "for epoch in range(100):\n",
    "    with tf.GradientTape() as tape:\n",
    "        loss = x ** 2 + y **2\n",
    "    loss_list.append(loss.numpy()) #**이전 for문 저장**#\n",
    "    \n",
    "#     grads = tape.gradient(loss, [x,y])\n",
    "#     grads_list = [g for g in grads]\n",
    "#     grads_and_vars = zip(grads_list, [x,y])\n",
    "    \n",
    "    dx, dy = tape.gradient(loss, [x,y]) # gradient 계산, loss는 텐서 변수이다.\n",
    "    grads_and_vars = zip([dx, dy], [x,y]) #[dx, dy]와 [x,y]를 순서대로 쌍으로 묶어서 grads_and_vars를 만든다.\n",
    "    print(list(grads_and_vars).numpy())\n",
    "    opt.apply_gradients(grads_and_vars) #grads_and_vars를 최적화 객체 opt에 적용해서 최적화를 수행한다.\n",
    "   \n",
    "    if not epoch % 10: #epoch가 10의 배수만큼 일때 마다 출력\n",
    "        print(\"epoch={}: loss={}\".format(epoch, loss.numpy()))\n",
    "\n",
    "print(\"x={:.5f}, y={:.5f}, loss={}\".format(x.numpy(), y.numpy(), loss.numpy()))\n",
    "plt.plot(loss_list)\n",
    "plt.show()       "
   ]
  }
 ],
 "metadata": {
  "kernelspec": {
   "display_name": "Python 3",
   "language": "python",
   "name": "python3"
  },
  "language_info": {
   "codemirror_mode": {
    "name": "ipython",
    "version": 3
   },
   "file_extension": ".py",
   "mimetype": "text/x-python",
   "name": "python",
   "nbconvert_exporter": "python",
   "pygments_lexer": "ipython3",
   "version": "3.8.8"
  }
 },
 "nbformat": 4,
 "nbformat_minor": 5
}
