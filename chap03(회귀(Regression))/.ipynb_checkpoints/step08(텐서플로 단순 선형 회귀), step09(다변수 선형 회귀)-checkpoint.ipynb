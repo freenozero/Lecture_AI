{
 "cells": [
  {
   "cell_type": "markdown",
   "id": "5e0d7332",
   "metadata": {},
   "source": [
    "# Step08 텐서플로 단순 선형 회귀\n",
    "여기서는 [step 06]의 스칼라 입력을 갖는 단순 선형 회귀 모델 y = xw + b의 가중치 w와 바이어스 b를\n",
    "\n",
    "**평균제곱오차**의 손실함수를 사용한 경사하강법을 **tensorflow**로 구현한다."
   ]
  },
  {
   "cell_type": "markdown",
   "id": "6c4b9e80",
   "metadata": {},
   "source": [
    "## step08_01\n",
    "### 자동 미분 계산2: tf.GraidentTape(persistent = True)"
   ]
  },
  {
   "cell_type": "code",
   "execution_count": 2,
   "id": "09799b31",
   "metadata": {},
   "outputs": [
    {
     "name": "stdout",
     "output_type": "stream",
     "text": [
      "epoch=0: w=  0.5422, b=  0.0055, loss10.541666984558105\n",
      "epoch=10: w=  0.8083, b=  0.0401, loss1.7546306848526\n",
      "epoch=20: w=  0.9169, b=  0.0540, loss0.29284951090812683\n",
      "epoch=30: w=  0.9612, b=  0.0594, loss0.049664050340652466\n",
      "epoch=40: w=  0.9793, b=  0.0615, loss0.009198411367833614\n",
      "epoch=50: w=  0.9867, b=  0.0621, loss0.0024564294144511223\n",
      "epoch=60: w=  0.9897, b=  0.0621, loss0.0013246409362182021\n",
      "epoch=70: w=  0.9910, b=  0.0619, loss0.0011262428015470505\n",
      "epoch=80: w=  0.9916, b=  0.0617, loss0.001083222683519125\n",
      "epoch=90: w=  0.9918, b=  0.0613, loss0.001066161785274744\n",
      "w=  0.9919, b=  0.0610, loss0.0011\n"
     ]
    },
    {
     "data": {
      "image/png": "[encoded data removed]",
      "text/plain": [
       "<Figure size 432x288 with 1 Axes>"
      ]
     },
     "metadata": {
      "needs_background": "light"
     },
     "output_type": "display_data"
    }
   ],
   "source": [
    "import numpy as np\n",
    "import tensorflow as tf\n",
    "import matplotlib.pyplot as plt\n",
    "\n",
    "x = np.arange(12)\n",
    "t = np.arange(12)\n",
    "#x = tf.convert_to_tensor(x, dtype=tf.float32)\n",
    "#y = tf.convert_to_tensor(t, dtype=tf.float32)\n",
    "\n",
    "w = tf.Variable(0.5)\n",
    "b = tf.Variable(0.0)\n",
    "lr = 0.001\n",
    "\n",
    "loss_list = [] #graph\n",
    "\n",
    "for epoch in range(100):\n",
    "    with tf.GradientTape() as tape:\n",
    "        y = x * w + b\n",
    "        loss = tf.reduce_mean(tf.square(y-t))\n",
    "    loss_list.append(loss.numpy()) #이전에 돌았던게 추가되는 듯..?\n",
    "    \n",
    "    dW, dB = tape.gradient(loss, [w,b])\n",
    "    w.assign_sub(lr * dW) #(==) w -= lr * dW\n",
    "    b.assign_sub(lr * dB)\n",
    "    if not epoch % 10: #epoch가 10의 배수만큼 일때 마다 출력\n",
    "        print(\"epoch={}: w={:>8.4f}, b={:8.4f}, loss{}\".format(epoch, w.numpy(), b.numpy(), loss.numpy()))\n",
    "\n",
    "print(\"w={:>8.4f}, b={:8.4f}, loss{:>.4f}\".format(w.numpy(), b.numpy(), loss.numpy()))\n",
    "plt.plot(loss_list)\n",
    "plt.show()    "
   ]
  },
  {
   "cell_type": "markdown",
   "id": "4966a503",
   "metadata": {},
   "source": [
    "## step08_02\n",
    "### Tensorflow: 미니배치에 의한 확률적 경사하강법"
   ]
  },
  {
   "cell_type": "code",
   "execution_count": 13,
   "id": "b652e69d",
   "metadata": {},
   "outputs": [
    {
     "name": "stdout",
     "output_type": "stream",
     "text": [
      "epoch=0: w=  0.6574, b=  0.0179, loss8.730813980102539\n",
      "epoch=10: w=  0.9611, b=  0.0581, loss0.06158556044101715\n",
      "epoch=20: w=  0.9891, b=  0.0609, loss0.0003245871630497277\n",
      "epoch=30: w=  0.9916, b=  0.0602, loss0.0004086626577191055\n",
      "epoch=40: w=  0.9928, b=  0.0592, loss0.0007071038708090782\n",
      "epoch=50: w=  0.9921, b=  0.0580, loss0.0003238900098949671\n",
      "epoch=60: w=  0.9923, b=  0.0570, loss0.0015148852253332734\n",
      "epoch=70: w=  0.9927, b=  0.0562, loss0.0008306719828397036\n",
      "epoch=80: w=  0.9929, b=  0.0554, loss0.0007025365484878421\n",
      "epoch=90: w=  0.9928, b=  0.0544, loss0.0009872833034023643\n",
      "w=  0.9931, b=  0.0536, loss0.0016\n"
     ]
    },
    {
     "data": {
      "image/png": "[encoded data removed]",
      "text/plain": [
       "<Figure size 432x288 with 1 Axes>"
      ]
     },
     "metadata": {
      "needs_background": "light"
     },
     "output_type": "display_data"
    }
   ],
   "source": [
    "import numpy as np\n",
    "import tensorflow as tf\n",
    "import matplotlib.pyplot as plt\n",
    "\n",
    "x = np.arange(12)\n",
    "t = np.arange(12)\n",
    "\n",
    "w = tf.Variable(0.5)\n",
    "b = tf.Variable(0.0)\n",
    "lr= 0.001   #0.0001: 손실의 진동이 커진다.\n",
    "\n",
    "train_size = x.size # 12\n",
    "batch_size = 4\n",
    "K = train_size// batch_size #4개식 샘플링\n",
    " \n",
    "loss_list = [ ]\n",
    "for epoch in range(100):\n",
    "    batch_loss = 0.0\n",
    "    for step in range(K):\n",
    "        mask = np.random.choice(train_size, batch_size)\n",
    "        x_batch = x[mask]\n",
    "        t_batch = t[mask]\n",
    "        \n",
    "        with tf.GradientTape() as tape:\n",
    "            y = w*x_batch + b\n",
    "            loss = tf.reduce_mean(tf.square(y - t_batch))\n",
    "\n",
    "        dW, dB = tape.gradient(loss, [w, b])\n",
    "        w.assign_sub(lr * dW)\n",
    "        b.assign_sub(lr * dB)\n",
    "\n",
    "        batch_loss += loss.numpy() # update loss\n",
    "    batch_loss /= K # 평균 loss\n",
    "    loss_list.append(batch_loss) \n",
    "    \n",
    "    if not epoch % 10: #epoch가 10의 배수만큼 일때 마다 출력\n",
    "        print(\"epoch={}: w={:>8.4f}, b={:8.4f}, loss{}\".format(epoch, w.numpy(), b.numpy(), loss.numpy()))\n",
    "\n",
    "print(\"w={:>8.4f}, b={:8.4f}, loss{:>.4f}\".format(w.numpy(), b.numpy(), loss.numpy()))\n",
    "plt.plot(loss_list)\n",
    "plt.show()    "
   ]
  },
  {
   "cell_type": "markdown",
   "id": "d7a15546",
   "metadata": {},
   "source": [
    "# Step09 다변수 선형 회귀\n",
    "\n",
    "## step09_01\n",
    "### 2변수 선형모델 평균 제곱 오차(MSE)\n",
    "2변수 선형모델 평균 제곱오차(MSE)를 정의하여 계산한다."
   ]
  },
  {
   "cell_type": "code",
   "execution_count": 18,
   "id": "7468f5cd",
   "metadata": {},
   "outputs": [
    {
     "name": "stdout",
     "output_type": "stream",
     "text": [
      "X= [[1. 0.]\n",
      " [2. 0.]\n",
      " [3. 0.]\n",
      " [4. 0.]\n",
      " [1. 1.]\n",
      " [2. 1.]\n",
      " [3. 1.]\n",
      " [4. 1.]]\n",
      "t= [[4.]\n",
      " [5.]\n",
      " [6.]\n",
      " [7.]\n",
      " [6.]\n",
      " [7.]\n",
      " [8.]\n",
      " [9.]]\n",
      "W= [[-1.1012203]\n",
      " [ 1.5457517]]\n",
      "b= [0.40308788]\n",
      "y= [[-0.6981324 ]\n",
      " [-1.7993526 ]\n",
      " [-2.900573  ]\n",
      " [-4.001793  ]\n",
      " [ 0.8476193 ]\n",
      " [-0.25360093]\n",
      " [-1.3548213 ]\n",
      " [-2.4560416 ]]\n",
      "MSE(y, t)= 70.80983\n"
     ]
    }
   ],
   "source": [
    "import numpy as np\n",
    "import tensorflow as tf\n",
    "MSE = tf.keras.losses.MeanSquaredError()\n",
    "\n",
    "train_data = np.array([ # t = 1*x1 + 2*x2 + 3\n",
    "#  x1, x2, t      \n",
    " [ 1,  0,  4],\n",
    " [ 2,  0,  5],\n",
    " [ 3,  0,  6],\n",
    " [ 4,  0,  7],\n",
    " [ 1,  1,  6],\n",
    " [ 2,  1,  7],\n",
    " [ 3,  1,  8],\n",
    " [ 4,  1,  9]], dtype=np.float32)\n",
    "#t = 1 * X[:, 0] + 2 * X[:, 1] +3으로 계산한 것이다.\n",
    "#즉 선형모델의 참 값은 W[0]=1, W[1]=2, b=3이다.\n",
    "\n",
    "X = train_data[:, :-1]\n",
    "t = train_data[:, -1:]\n",
    "\n",
    "print(\"X=\", X)\n",
    "print(\"t=\", t)\n",
    "\n",
    "tf.random.set_seed(1) #같은 난수열이 발생하도록\n",
    "\n",
    "#선형 모델의 파라미터인 W, b는 정규분포 난수(평균은 0, 표준편차는 1)로 초기화 한다.(tf.random.normal)\n",
    "W = tf.Variable(tf.random.normal(shape=[2,1]),) #tf.Varialbe([[0.5],[0.5]], dtype=tf.float32) #W는 [2,1]인 크기의 텐서\n",
    "b = tf.Variable(tf.random.normal(shape=[1])) #b는 [1] 크기의 텐서\n",
    "\n",
    "print(\"W=\", W.numpy())\n",
    "print(\"b=\", b.numpy())\n",
    "\n",
    "y = tf.matmul(X, W) + b #행렬 곱셈과 덧셈으로 y출력\n",
    "print(\"y=\", y.numpy()) #y는 [8,1]의 shape이다.\n",
    "\n",
    "loss = MSE(y, t)\n",
    "print(\"MSE(y, t)=\", loss.numpy())"
   ]
  },
  {
   "cell_type": "markdown",
   "id": "231e0b31",
   "metadata": {},
   "source": [
    "## step09_02\n",
    "### 2변수 선형 회귀\n",
    "tensorflow로 경사하강법을 구현하여 W와 b를 계산한다."
   ]
  },
  {
   "cell_type": "code",
   "execution_count": 21,
   "id": "90ce5379",
   "metadata": {},
   "outputs": [
    {
     "name": "stdout",
     "output_type": "stream",
     "text": [
      "epoch=0: loss=70.80982971191406\n",
      "epoch=100: loss=0.24113810062408447\n",
      "epoch=200: loss=0.13516539335250854\n",
      "epoch=300: loss=0.07973595708608627\n",
      "epoch=400: loss=0.04832182824611664\n",
      "epoch=500: loss=0.029679028317332268\n",
      "epoch=600: loss=0.018346911296248436\n",
      "epoch=700: loss=0.01137640792876482\n",
      "epoch=800: loss=0.007064404897391796\n",
      "epoch=900: loss=0.004389811772853136\n",
      "epoch=1000: loss=0.0027286838740110397\n",
      "epoch=1100: loss=0.0016963989473879337\n",
      "epoch=1200: loss=0.0010546805569902062\n",
      "epoch=1300: loss=0.0006557558663189411\n",
      "epoch=1400: loss=0.00040772909414954484\n",
      "epoch=1500: loss=0.00025352471857331693\n",
      "epoch=1600: loss=0.00015762628754600883\n",
      "epoch=1700: loss=9.800999396247789e-05\n",
      "epoch=1800: loss=6.0939142713323236e-05\n",
      "epoch=1900: loss=3.7892572436248884e-05\n",
      "W=[[1.0032761]\n",
      " [2.005639 ]]. b=[2.9875078], loss=2.3675645934417844e-05\n"
     ]
    },
    {
     "data": {
      "image/png": "[encoded data removed]",
      "text/plain": [
       "<Figure size 432x288 with 1 Axes>"
      ]
     },
     "metadata": {
      "needs_background": "light"
     },
     "output_type": "display_data"
    }
   ],
   "source": [
    "import numpy as np\n",
    "import tensorflow as tf\n",
    "import matplotlib.pyplot as plt\n",
    "\n",
    "MSE = tf.keras.losses.MeanSquaredError()\n",
    "\n",
    "train_data = np.array([ # t = 1*x1 + 2*x2 + 3\n",
    "#  x1, x2, t      \n",
    " [ 1,  0,  4],\n",
    " [ 2,  0,  5],\n",
    " [ 3,  0,  6],\n",
    " [ 4,  0,  7],\n",
    " [ 1,  1,  6],\n",
    " [ 2,  1,  7],\n",
    " [ 3,  1,  8],\n",
    " [ 4,  1,  9]], dtype=np.float32)\n",
    "\n",
    "X = train_data[:, :-1]\n",
    "t = train_data[:, -1:]\n",
    "\n",
    "tf.random.set_seed(1) # 난수열 초기화\n",
    "W = tf.Variable(tf.random.normal(shape=[2, 1]), )\n",
    "b = tf.Variable(tf.random.normal(shape=[1]))\n",
    "lr = 0.01  # 0.001에서 참값에 더 근사한 값을 보인다.\n",
    "\n",
    "loss_list = [ ]\n",
    "for epoch in range(2000):   \n",
    "    with tf.GradientTape() as tape:\n",
    "        y = tf.matmul(X, W) + b\n",
    "        loss = MSE(y, t)\n",
    "    loss_list.append(loss.numpy())\n",
    "\n",
    "    dW, dB = tape.gradient(loss, [W, b])\n",
    "    W.assign_sub(lr * dW)\n",
    "    b.assign_sub(lr * dB)\n",
    "    \n",
    "    if not epoch%100:\n",
    "           print(\"epoch={}: loss={}\".format(epoch, loss.numpy()))\n",
    "\n",
    "print(\"W={}. b={}, loss={}\".format(W.numpy(), b.numpy(), loss.numpy()))\n",
    "\n",
    "plt.plot(loss_list)\n",
    "plt.show()"
   ]
  },
  {
   "cell_type": "markdown",
   "id": "68c4bda9",
   "metadata": {},
   "source": [
    "## step09_03\n",
    "### 2변수 선형 회귀의 미니배치 학습\n",
    "미니배치로 확률적 경사하강법(SGD)를 구현하여 W, b를 계산한다."
   ]
  },
  {
   "cell_type": "code",
   "execution_count": 23,
   "id": "ccd89fbf",
   "metadata": {},
   "outputs": [
    {
     "name": "stdout",
     "output_type": "stream",
     "text": [
      "W=[[1.0028228]\n",
      " [2.0051215]]. b=[2.988663], loss=1.7501642332717893e-05\n"
     ]
    },
    {
     "data": {
      "image/png": "[encoded data removed]",
      "text/plain": [
       "<Figure size 432x288 with 1 Axes>"
      ]
     },
     "metadata": {
      "needs_background": "light"
     },
     "output_type": "display_data"
    }
   ],
   "source": [
    "import numpy as np\n",
    "import tensorflow as tf\n",
    "import matplotlib.pyplot as plt\n",
    "\n",
    "MSE = tf.keras.losses.MeanSquaredError()\n",
    "\n",
    "train_data = np.array([ # t = 1*x1 + 2*x2 + 3\n",
    "#  x1, x2, t      \n",
    " [ 1,  0,  4],\n",
    " [ 2,  0,  5],\n",
    " [ 3,  0,  6],\n",
    " [ 4,  0,  7],\n",
    " [ 1,  1,  6],\n",
    " [ 2,  1,  7],\n",
    " [ 3,  1,  8],\n",
    " [ 4,  1,  9]], dtype=np.float32)\n",
    "\n",
    "X = train_data[:, :-1]\n",
    "t = train_data[:, -1:]\n",
    "\n",
    "tf.random.set_seed(1)\n",
    "W = tf.Variable(tf.random.normal(shape=[2, 1]), )\n",
    "b = tf.Variable(tf.random.normal(shape=[1]))\n",
    "lr = 0.01  #0.001 # 학습율이 클 수록 손실이 빠르게 감소하는 것을 볼 수 있다.(큰 것이 항상 좋은 것은 아니다!)\n",
    "\n",
    "train_size = X.shape[0]\n",
    "batch_size = 4\n",
    "K = train_size// batch_size\n",
    "\n",
    "loss_list = [ ]\n",
    "for epoch in range(1000):\n",
    "    batch_loss = 0.0\n",
    "    for step in range(K):\n",
    "        mask = np.random.choice(train_size, batch_size)\n",
    "        x_batch = X[mask]\n",
    "        t_batch = t[mask]\n",
    "        \n",
    "        with tf.GradientTape() as tape:\n",
    "            y = tf.matmul(x_batch, W) + b\n",
    "            loss = MSE(y, t_batch)\n",
    "            \n",
    "        batch_loss += loss.numpy()\n",
    "        \n",
    "        dW, dB = tape.gradient(loss, [W, b])\n",
    "        W.assign_sub(lr * dW)\n",
    "        b.assign_sub(lr * dB)\n",
    "        \n",
    "    batch_loss /= K    \n",
    "    loss_list.append(batch_loss)\n",
    "#     if not epoch%100:\n",
    "#         print(\"epoch={}, batch_loss={}\".format(epoch, batch_loss))\n",
    "\n",
    "print(\"W={}. b={}, loss={}\".format(W.numpy(), b.numpy(), batch_loss))\n",
    "\n",
    "plt.plot(loss_list)\n",
    "plt.show()"
   ]
  }
 ],
 "metadata": {
  "kernelspec": {
   "display_name": "Python 3",
   "language": "python",
   "name": "python3"
  },
  "language_info": {
   "codemirror_mode": {
    "name": "ipython",
    "version": 3
   },
   "file_extension": ".py",
   "mimetype": "text/x-python",
   "name": "python",
   "nbconvert_exporter": "python",
   "pygments_lexer": "ipython3",
   "version": "3.8.8"
  }
 },
 "nbformat": 4,
 "nbformat_minor": 5
}
